{
  "nbformat": 4,
  "nbformat_minor": 0,
  "metadata": {
    "colab": {
      "provenance": [],
      "include_colab_link": true
    },
    "kernelspec": {
      "name": "python3",
      "display_name": "Python 3"
    },
    "language_info": {
      "name": "python"
    }
  },
  "cells": [
    {
      "cell_type": "markdown",
      "metadata": {
        "id": "view-in-github",
        "colab_type": "text"
      },
      "source": [
        "<a href=\"https://colab.research.google.com/github/Ikrammsr/apple-stock-analysis-project/blob/main/apple_stock_analysis_v2.ipynb\" target=\"_parent\"><img src=\"https://colab.research.google.com/assets/colab-badge.svg\" alt=\"Open In Colab\"/></a>"
      ]
    },
    {
      "cell_type": "markdown",
      "source": [
        "**Introduction**\n",
        "\n",
        "## About Apple Inc.\n",
        "\n",
        "Apple Inc. is a global technology company based in Cupertino, California. It was founded in 1976 by Steve Jobs, Steve Wozniak, and Ronald Wayne. Apple is famous for its innovative products like the iPhone, iPad, Mac computers, Apple Watch, and services such as Apple Music and iCloud. The company is a leader in multiple industries, including smartphones, personal computers, and streaming services, and has a huge influence on global markets.\n",
        "\n",
        "## About the Dataset\n",
        "\n",
        "This dataset provides a detailed look at Apple’s historical stock performance (AAPL) in a clean, daily format. It covers the period from Apple’s IPO in 1980 up to the present, making it perfect for both financial analysis and machine learning projects.  \n",
        "\n",
        "The dataset contains **8 columns**:\n",
        "\n",
        "- **Date:** The trading day (YYYY-MM-DD)  \n",
        "- **ticker:** The stock symbol on NASDAQ (AAPL)  \n",
        "- **name:** Full company name (Apple Inc.)  \n",
        "- **Open:** Stock price at the start of the day (USD)  \n",
        "- **High:** Highest price during the day (USD)  \n",
        "- **Low:** Lowest price during the day (USD)  \n",
        "- **Close:** Stock price at market close (USD)  \n",
        "- **Volume:** Number of shares traded during the day  \n",
        "\n",
        "The data is collected via the **yfinance Python library**, which pulls information directly from Yahoo Finance.\n",
        "\n",
        "## Project Goal\n",
        "\n",
        "The goal of this project is to explore Apple’s stock trends, understand patterns in daily returns, and build predictive models using Python and statistical methods. Specifically, this project will let us:\n",
        "\n",
        "- Handle and clean data efficiently using Python  \n",
        "- Explore trends with visualizations and descriptive statistics  \n",
        "- Test assumptions like normality and run hypothesis tests  \n",
        "- Apply regression models (linear & logistic) and a Random Forest classifier  \n",
        "- Understand factors that influence high-return days  \n",
        "\n",
        "By combining programming and statistical analysis, this project will give us a deeper understanding of Apple’s stock behavior and strengthen our skills in both coding and data analysis.\n",
        "## Research Question\n",
        "\n",
        "Based on this goal, the main research question is:  \n",
        "**How has Apple’s stock performance changed over time, and which factors can help predict daily stock returns?**\n",
        "\n",
        "To answer this, we will explore trends in stock prices, daily returns, and trading volumes, test statistical assumptions like normality, compare performance across different periods, and build predictive models using linear regression, logistic regression, and Random Forest classifiers.  \n"
      ],
      "metadata": {
        "id": "Yv-Qv2bKGB3Z"
      }
    }
  ]
}